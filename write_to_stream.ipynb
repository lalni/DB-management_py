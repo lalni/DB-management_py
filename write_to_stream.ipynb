{
 "cells": [
  {
   "cell_type": "code",
   "execution_count": 1,
   "metadata": {},
   "outputs": [
    {
     "name": "stdout",
     "output_type": "stream",
     "text": [
      "<class 'pandas.core.frame.DataFrame'>\n",
      "RangeIndex: 102183 entries, 0 to 102182\n",
      "Data columns (total 6 columns):\n",
      " #   Column      Non-Null Count   Dtype         \n",
      "---  ------      --------------   -----         \n",
      " 0   Unnamed: 0  102183 non-null  int64         \n",
      " 1   ticker      102183 non-null  object        \n",
      " 2   date        102183 non-null  datetime64[ns]\n",
      " 3   PX_HIGH     38572 non-null   float64       \n",
      " 4   PX_LOW      38571 non-null   float64       \n",
      " 5   PX_LAST     102182 non-null  float64       \n",
      "dtypes: datetime64[ns](1), float64(3), int64(1), object(1)\n",
      "memory usage: 4.7+ MB\n",
      "None\n"
     ]
    }
   ],
   "source": [
    "import pandas as pd\n",
    "import numpy as np\n",
    "from datetime import datetime\n",
    "\n",
    "dateparse = lambda x: datetime.strptime(x, \"%Y-%m-%d %H:%M:%S\")\n",
    "df = pd.read_csv(\"bloomberg_data.csv\", encoding = 'utf8', index_col=False, parse_dates=['date'], date_parser=dateparse)\n",
    "\n",
    "print(df.info())"
   ]
  },
  {
   "cell_type": "code",
   "execution_count": 2,
   "metadata": {},
   "outputs": [
    {
     "name": "stdout",
     "output_type": "stream",
     "text": [
      "Step 1\n",
      "Connected to dxtick://timebase:8011\n",
      "Connection dxtick://timebase:8011 closed.\n"
     ]
    },
    {
     "ename": "AttributeError",
     "evalue": "'NoneType' object has no attribute 'createLoader'",
     "output_type": "error",
     "traceback": [
      "\u001b[0;31m---------------------------------------------------------------------------\u001b[0m",
      "\u001b[0;31mAttributeError\u001b[0m                            Traceback (most recent call last)",
      "\u001b[0;32m<ipython-input-2-43e37e770527>\u001b[0m in \u001b[0;36m<module>\u001b[0;34m\u001b[0m\n\u001b[1;32m     33\u001b[0m \u001b[0;34m\u001b[0m\u001b[0m\n\u001b[1;32m     34\u001b[0m     \u001b[0;31m# Create a Message Loader for the selected stream and provide loading options\u001b[0m\u001b[0;34m\u001b[0m\u001b[0;34m\u001b[0m\u001b[0;34m\u001b[0m\u001b[0m\n\u001b[0;32m---> 35\u001b[0;31m     \u001b[0mloader\u001b[0m \u001b[0;34m=\u001b[0m \u001b[0mstream\u001b[0m\u001b[0;34m.\u001b[0m\u001b[0mcreateLoader\u001b[0m\u001b[0;34m(\u001b[0m\u001b[0mdxapi\u001b[0m\u001b[0;34m.\u001b[0m\u001b[0mLoadingOptions\u001b[0m\u001b[0;34m(\u001b[0m\u001b[0;34m)\u001b[0m\u001b[0;34m)\u001b[0m\u001b[0;34m\u001b[0m\u001b[0;34m\u001b[0m\u001b[0m\n\u001b[0m\u001b[1;32m     36\u001b[0m \u001b[0;34m\u001b[0m\u001b[0m\n\u001b[1;32m     37\u001b[0m     \u001b[0;31m# Create Bar message\u001b[0m\u001b[0;34m\u001b[0m\u001b[0;34m\u001b[0m\u001b[0;34m\u001b[0m\u001b[0m\n",
      "\u001b[0;31mAttributeError\u001b[0m: 'NoneType' object has no attribute 'createLoader'"
     ]
    }
   ],
   "source": [
    "import os\n",
    "import sys\n",
    "from datetime import datetime\n",
    "import pandas as pd\n",
    "\n",
    "testdir = os.getcwd() + '/'\n",
    "if testdir != \"\":\n",
    "    testdir = testdir + '/'\n",
    "sys.path.append(testdir + \"..\")\n",
    "sys.path.append(os.path.dirname(os.path.abspath('')))\n",
    "\n",
    "import dxapi\n",
    "#source = 'dxtick://ec2-13-53-158-252.eu-north-1.compute.amazonaws.com:54011'\n",
    "#dest = 'dxtick://timebase:8011'\n",
    "# Timebase URL specification, pattern is \"dxtick://<host>:<port>\"\n",
    "timebase = 'dxtick://timebase:8011'\n",
    "import dxapi \n",
    "try:\n",
    "    # Create timebase connection\n",
    "    print(\"Step 1\")\n",
    "    db = dxapi.TickDb.createFromUrl(timebase)\n",
    "    \n",
    "    # Open in read-write mode\n",
    "    db.open(False)\n",
    "    \n",
    "    print('Connected to ' + timebase) \n",
    "    \n",
    "    # Define name of the stream    \n",
    "    streamKey = 'Demo_Saeed_1'\n",
    "    \n",
    "    # Get stream from the timebase\n",
    "    stream = db.getStream(streamKey)\n",
    "    \n",
    "    # Create a Message Loader for the selected stream and provide loading options\n",
    "    loader = stream.createLoader(dxapi.LoadingOptions())\n",
    "    \n",
    "    # Create Bar message\n",
    "    barMessage = dxapi.InstrumentMessage()\n",
    "    \n",
    "    # Define message type name according to the Timebase schema type name\n",
    "    # For the polymorphic streams, each message should have defined typeName to distinct messages on Timebase Server level.\n",
    "    barMessage.typeName = 'MyBarMessage'\n",
    "   \n",
    "    print('Start loading to ' + streamKey)   \n",
    "    \n",
    "    # get current time in UTC\n",
    "    now = datetime.utcnow() - datetime(1970, 1, 1)\n",
    "    \n",
    "    # Define message timestamp as Epoch time in nanoseconds \n",
    "    ns = now.total_seconds() * 1e9 + now.microseconds * 1000;\n",
    "    \n",
    "    barMessage.instrumentType = 'EQUITY'\n",
    "    \n",
    "  \n",
    "    for row in df.iterrows():\n",
    "        \n",
    "         # get current time in UTC\n",
    "        now = row[1]['date'] - datetime(1970, 1, 1)\n",
    "    \n",
    "        # Define message timestamp as Epoch time in nanoseconds \n",
    "        ns = now.total_seconds() * 1e9 + now.microseconds * 1000;\n",
    "        \n",
    "        barMessage.symbol = row[1]['ticker']   \n",
    " \n",
    "        barMessage.PX_LAST = row[1]['PX_LAST']\n",
    "       \n",
    "    \n",
    "        # Send message\n",
    "        loader.send(barMessage)     \n",
    "    # close Message Loader\n",
    "    loader.close()\n",
    "    loader = None\n",
    "    \n",
    "finally:\n",
    "    # database connection should be closed anyway\n",
    "    if db.isOpen():\n",
    "        db.close()\n",
    "        print(\"Connection \" + timebase + \" closed.\")"
   ]
  },
  {
   "cell_type": "code",
   "execution_count": null,
   "metadata": {},
   "outputs": [],
   "source": []
  },
  {
   "cell_type": "code",
   "execution_count": null,
   "metadata": {},
   "outputs": [],
   "source": []
  }
 ],
 "metadata": {
  "kernelspec": {
   "display_name": "Python 3",
   "language": "python",
   "name": "python3"
  },
  "language_info": {
   "codemirror_mode": {
    "name": "ipython",
    "version": 3
   },
   "file_extension": ".py",
   "mimetype": "text/x-python",
   "name": "python",
   "nbconvert_exporter": "python",
   "pygments_lexer": "ipython3",
   "version": "3.7.6"
  }
 },
 "nbformat": 4,
 "nbformat_minor": 4
}
